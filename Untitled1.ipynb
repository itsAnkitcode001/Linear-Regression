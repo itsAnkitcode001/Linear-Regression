{
  "nbformat": 4,
  "nbformat_minor": 0,
  "metadata": {
    "colab": {
      "name": "Untitled1.ipynb",
      "provenance": [],
      "authorship_tag": "ABX9TyNGr8hVy0bdOqtVgvdtzOFr",
      "include_colab_link": true
    },
    "kernelspec": {
      "display_name": "Python 3",
      "name": "python3"
    },
    "language_info": {
      "name": "python"
    }
  },
  "cells": [
    {
      "cell_type": "markdown",
      "metadata": {
        "id": "view-in-github",
        "colab_type": "text"
      },
      "source": [
        "<a href=\"https://colab.research.google.com/github/itsAnkitcode001/Linear-Regression/blob/main/Untitled1.ipynb\" target=\"_parent\"><img src=\"https://colab.research.google.com/assets/colab-badge.svg\" alt=\"Open In Colab\"/></a>"
      ]
    },
    {
      "cell_type": "code",
      "metadata": {
        "colab": {
          "base_uri": "https://localhost:8080/",
          "height": 1000
        },
        "id": "cpmUnOHNjkOp",
        "outputId": "4dec3e77-c05d-4def-96c0-58a3b5c1fda9"
      },
      "source": [
        " \n",
        "import pandas as pd\n",
        "import numpy as np \n",
        "import matplotlib.pyplot as plt\n",
        "#data extract from csv file and store into X and Y\n",
        "url = 'https://raw.githubusercontent.com/AdiPersonalWorks/Random/master/student_scores%20-%20student_scores.csv'\n",
        "dfs = pd.read_csv(url)\n",
        "print(dfs) \n",
        "X=dfs['Hours'].values\n",
        "Y=dfs['Scores'].values\n",
        "print(\"X is =\\n\",X)\n",
        "print(\"Y is =\",Y)\n",
        "print(dfs.shape) \n",
        "dfs. head() \n",
        "X_mean=np.mean(X)\n",
        "Y_mean=np.mean(Y)\n",
        "print(\"Mean value of Hours is=\\n\",X_mean) \n",
        "print(\"Mean value of scores is=\\n\",Y_mean)\n",
        "n=len(X) \n",
        "number=0\n",
        "term=0\n",
        "for i in range(n) :\n",
        "  number+=(X[i]-X_mean)*(Y[i]-Y_mean)\n",
        "  term+=(X[i]-X_mean)**2\n",
        "m=number/term\n",
        "c=Y_mean-(m*X_mean) \n",
        "print(\"Slope is=\\n\",m)\n",
        "print(\"Intercept is=\\n\", c) \n",
        "#plotting the regression\n",
        "max_x=np.max(X)\n",
        "min_x=np.min(X)\n",
        "x=np.linspace(min_x, max_x, 100)\n",
        "y=m*x+c\n",
        "plt.plot(x, y,color='#58b970' ,label='line') \n",
        "plt.scatter(X, Y, label='alter') \n",
        "plt.xlabel('Hours') \n",
        "plt.ylabel('Scores')\n",
        "plt.legend() \n",
        "plt.show()\n",
        "#If student study for 9.25hrs/days than score will bet=9.25\n",
        "t=9.25\n",
        "y_score=m*t+c\n",
        "print(\"If a student study for 9.5hrs a day he will be get\",round( y_score) ) \n",
        "#Enter the hrs a day you study\n",
        "tim=float(input(\"Enter the study time in hrs\\n\"))  \n",
        "score=m*tim+c\n",
        "print(\"You will score that much\",round(score)) \n",
        " \n",
        "#R sqaure method for checking the modal\n",
        "va=0\n",
        "vb=0\n",
        "for i in range(n):\n",
        "  Pred_output=m*X[i]+c\n",
        "  va+=(Y[i]-Y_mean) **2\n",
        "  vb+=(Y[i]-Pred_output)**2\n",
        "R_sq=1-(vb/va) \n",
        "print(\"By R square method,our model accuracy value is\",R_sq)"
      ],
      "execution_count": null,
      "outputs": [
        {
          "output_type": "stream",
          "text": [
            "    Hours  Scores\n",
            "0     2.5      21\n",
            "1     5.1      47\n",
            "2     3.2      27\n",
            "3     8.5      75\n",
            "4     3.5      30\n",
            "5     1.5      20\n",
            "6     9.2      88\n",
            "7     5.5      60\n",
            "8     8.3      81\n",
            "9     2.7      25\n",
            "10    7.7      85\n",
            "11    5.9      62\n",
            "12    4.5      41\n",
            "13    3.3      42\n",
            "14    1.1      17\n",
            "15    8.9      95\n",
            "16    2.5      30\n",
            "17    1.9      24\n",
            "18    6.1      67\n",
            "19    7.4      69\n",
            "20    2.7      30\n",
            "21    4.8      54\n",
            "22    3.8      35\n",
            "23    6.9      76\n",
            "24    7.8      86\n",
            "X is =\n",
            " [2.5 5.1 3.2 8.5 3.5 1.5 9.2 5.5 8.3 2.7 7.7 5.9 4.5 3.3 1.1 8.9 2.5 1.9\n",
            " 6.1 7.4 2.7 4.8 3.8 6.9 7.8]\n",
            "Y is = [21 47 27 75 30 20 88 60 81 25 85 62 41 42 17 95 30 24 67 69 30 54 35 76\n",
            " 86]\n",
            "(25, 2)\n",
            "Mean value of Hours is=\n",
            " 5.012\n",
            "Mean value of scores is=\n",
            " 51.48\n",
            "Slope is=\n",
            " 9.775803390787475\n",
            "Intercept is=\n",
            " 2.4836734053731746\n"
          ],
          "name": "stdout"
        },
        {
          "output_type": "display_data",
          "data": {
            "image/png": "[encoded data removed]",
            "text/plain": [
              "<Figure size 432x288 with 1 Axes>"
            ]
          },
          "metadata": {
            "tags": [],
            "needs_background": "light"
          }
        },
        {
          "output_type": "stream",
          "text": [
            "If a student study for 9.5hrs a day he will be get 93\n"
          ],
          "name": "stdout"
        }
      ]
    }
  ]
}